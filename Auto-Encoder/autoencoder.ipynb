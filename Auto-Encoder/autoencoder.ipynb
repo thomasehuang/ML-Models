{
 "cells": [
  {
   "cell_type": "markdown",
   "metadata": {},
   "source": [
    "# Auto-Encoder"
   ]
  },
  {
   "cell_type": "markdown",
   "metadata": {},
   "source": [
    "Basic Auto-Encoder network."
   ]
  },
  {
   "cell_type": "code",
   "execution_count": 2,
   "metadata": {},
   "outputs": [
    {
     "name": "stdout",
     "output_type": "stream",
     "text": [
      "Extracting /tmp/data/train-images-idx3-ubyte.gz\n",
      "Extracting /tmp/data/train-labels-idx1-ubyte.gz\n",
      "Extracting /tmp/data/t10k-images-idx3-ubyte.gz\n",
      "Extracting /tmp/data/t10k-labels-idx1-ubyte.gz\n"
     ]
    }
   ],
   "source": [
    "import tensorflow as tf\n",
    "import numpy as np\n",
    "import matplotlib.pyplot as plt\n",
    "\n",
    "# MNIST dataset\n",
    "from tensorflow.examples.tutorials.mnist import input_data\n",
    "mnist = input_data.read_data_sets(\"/tmp/data/\", one_hot=True)"
   ]
  },
  {
   "cell_type": "code",
   "execution_count": 3,
   "metadata": {},
   "outputs": [],
   "source": [
    "# Hyperparameters\n",
    "learning_rate = 1e-2\n",
    "training_steps = int(5e4)\n",
    "batch_size = 256\n",
    "\n",
    "# Network parameters\n",
    "input_size = 784 # MNIST images are 28x28\n",
    "num_hidden_1 = 256\n",
    "num_hidden_2 = 128"
   ]
  },
  {
   "cell_type": "markdown",
   "metadata": {},
   "source": [
    "## Model"
   ]
  },
  {
   "cell_type": "code",
   "execution_count": 4,
   "metadata": {},
   "outputs": [],
   "source": [
    "# Fully connected layer\n",
    "def fully_connected(x, W_shape, b_shape):\n",
    "    W = tf.Variable(tf.random_normal(W_shape))\n",
    "    b = tf.Variable(tf.random_normal(b_shape))\n",
    "    return tf.nn.sigmoid(tf.add(tf.matmul(x, W), b))\n",
    "\n",
    "# Encoder\n",
    "def encoder(x):\n",
    "    # Encoder hidden layer with sigmoid activation #1\n",
    "    layer_1 = fully_connected(x, [input_size, num_hidden_1], [num_hidden_1])\n",
    "    \n",
    "    # Encoder hidden layer with sigmoid activation #2\n",
    "    layer_2 = fully_connected(layer_1, [num_hidden_1, num_hidden_2], [num_hidden_2])\n",
    "    \n",
    "    return layer_2\n",
    "\n",
    "# Decider\n",
    "def decoder(x):\n",
    "    # Decoder hidden layer with sigmoid activation #1\n",
    "    layer_1 = fully_connected(x, [num_hidden_2, num_hidden_1], [num_hidden_1])\n",
    "    \n",
    "    # Decoder hidden layer with sigmoid activation #2\n",
    "    layer_2 = fully_connected(layer_1, [num_hidden_1, input_size], [input_size])\n",
    "    \n",
    "    return layer_2\n",
    "\n",
    "# Input placeholder\n",
    "input_images = tf.placeholder(\"float\", [None, input_size])\n",
    "\n",
    "# Model\n",
    "encoder_op = encoder(input_images) # Encoder\n",
    "decoder_op = decoder(encoder_op) # Decoder\n",
    "\n",
    "# Prediction\n",
    "y_pred = decoder_op\n",
    "# Labels, same as input data\n",
    "y_true = input_images"
   ]
  },
  {
   "cell_type": "code",
   "execution_count": 5,
   "metadata": {},
   "outputs": [],
   "source": [
    "# Define loss and optimizer, minimize the squared error\n",
    "loss = tf.reduce_mean(tf.pow(y_true - y_pred, 2)) # MSE\n",
    "optimizer = tf.train.RMSPropOptimizer(learning_rate).minimize(loss) # RMSProp\n",
    "\n",
    "# Initialize the variables\n",
    "init = tf.global_variables_initializer()"
   ]
  },
  {
   "cell_type": "markdown",
   "metadata": {},
   "source": [
    "## Training"
   ]
  },
  {
   "cell_type": "code",
   "execution_count": 6,
   "metadata": {},
   "outputs": [
    {
     "name": "stdout",
     "output_type": "stream",
     "text": [
      "Step 1: Minibatch Loss: 0.421842\n",
      "Step 1001: Minibatch Loss: 0.137560\n",
      "Step 2001: Minibatch Loss: 0.118953\n",
      "Step 3001: Minibatch Loss: 0.108551\n",
      "Step 4001: Minibatch Loss: 0.101457\n",
      "Step 5001: Minibatch Loss: 0.097633\n",
      "Step 6001: Minibatch Loss: 0.091006\n",
      "Step 7001: Minibatch Loss: 0.089541\n",
      "Step 8001: Minibatch Loss: 0.085673\n",
      "Step 9001: Minibatch Loss: 0.083013\n",
      "Step 10001: Minibatch Loss: 0.075191\n",
      "Step 11001: Minibatch Loss: 0.073606\n",
      "Step 12001: Minibatch Loss: 0.072291\n",
      "Step 13001: Minibatch Loss: 0.072360\n",
      "Step 14001: Minibatch Loss: 0.069160\n",
      "Step 15001: Minibatch Loss: 0.066562\n",
      "Step 16001: Minibatch Loss: 0.067286\n",
      "Step 17001: Minibatch Loss: 0.064414\n",
      "Step 18001: Minibatch Loss: 0.060325\n",
      "Step 19001: Minibatch Loss: 0.062996\n",
      "Step 20001: Minibatch Loss: 0.057997\n",
      "Step 21001: Minibatch Loss: 0.058284\n",
      "Step 22001: Minibatch Loss: 0.057166\n",
      "Step 23001: Minibatch Loss: 0.057991\n",
      "Step 24001: Minibatch Loss: 0.057020\n",
      "Step 25001: Minibatch Loss: 0.057513\n",
      "Step 26001: Minibatch Loss: 0.055703\n",
      "Step 27001: Minibatch Loss: 0.056312\n",
      "Step 28001: Minibatch Loss: 0.054578\n",
      "Step 29001: Minibatch Loss: 0.053701\n",
      "Step 30001: Minibatch Loss: 0.052780\n",
      "Step 31001: Minibatch Loss: 0.052431\n",
      "Step 32001: Minibatch Loss: 0.050576\n",
      "Step 33001: Minibatch Loss: 0.049923\n",
      "Step 34001: Minibatch Loss: 0.047069\n",
      "Step 35001: Minibatch Loss: 0.048327\n",
      "Step 36001: Minibatch Loss: 0.047982\n",
      "Step 37001: Minibatch Loss: 0.047280\n",
      "Step 38001: Minibatch Loss: 0.046069\n",
      "Step 39001: Minibatch Loss: 0.045564\n",
      "Step 40001: Minibatch Loss: 0.046355\n",
      "Step 41001: Minibatch Loss: 0.046301\n",
      "Step 42001: Minibatch Loss: 0.045915\n",
      "Step 43001: Minibatch Loss: 0.044863\n",
      "Step 44001: Minibatch Loss: 0.045029\n",
      "Step 45001: Minibatch Loss: 0.042985\n",
      "Step 46001: Minibatch Loss: 0.044061\n",
      "Step 47001: Minibatch Loss: 0.042126\n",
      "Step 48001: Minibatch Loss: 0.040691\n",
      "Step 49001: Minibatch Loss: 0.043161\n"
     ]
    }
   ],
   "source": [
    "# New session\n",
    "sess = tf.Session()\n",
    "\n",
    "# Initialize\n",
    "sess.run(init)\n",
    "\n",
    "for i in range(training_steps):\n",
    "    # Next batch of training data\n",
    "    batch_x, _ = mnist.train.next_batch(batch_size)\n",
    "    \n",
    "    # Optimization step\n",
    "    _, l = sess.run([optimizer, loss], feed_dict={input_images: batch_x})\n",
    "    \n",
    "    # Output loss every 1000 steps\n",
    "    if i % 1000 == 0:\n",
    "        print('Step %i: Minibatch Loss: %f' % (i+1, l))"
   ]
  },
  {
   "cell_type": "markdown",
   "metadata": {},
   "source": [
    "## Visualization"
   ]
  },
  {
   "cell_type": "code",
   "execution_count": 7,
   "metadata": {},
   "outputs": [
    {
     "name": "stdout",
     "output_type": "stream",
     "text": [
      "Original Images\n"
     ]
    },
    {
     "data": {
      "image/png": "[encoded data removed]",
      "text/plain": [
       "<matplotlib.figure.Figure at 0x12352d6a0>"
      ]
     },
     "metadata": {},
     "output_type": "display_data"
    },
    {
     "name": "stdout",
     "output_type": "stream",
     "text": [
      "Reconstructed Images\n"
     ]
    },
    {
     "data": {
      "image/png": "[encoded data removed]",
      "text/plain": [
       "<matplotlib.figure.Figure at 0x1147b5f98>"
      ]
     },
     "metadata": {},
     "output_type": "display_data"
    }
   ],
   "source": [
    "# Encode and decode images from test set and visualize their reconstruction.\n",
    "n = 4\n",
    "canvas_orig = np.empty((28 * n, 28 * n))\n",
    "canvas_recon = np.empty((28 * n, 28 * n))\n",
    "for i in range(n):\n",
    "    # MNIST test set\n",
    "    batch_x, _ = mnist.test.next_batch(n)\n",
    "    # Encode and decode the digit image\n",
    "    recon = sess.run(decoder_op, feed_dict={input_images: batch_x})\n",
    "    \n",
    "    # Display original images\n",
    "    for j in range(n):\n",
    "        # Draw the generated digits\n",
    "        canvas_orig[i * 28:(i + 1) * 28,\n",
    "                    j * 28:(j + 1) * 28] = batch_x[j].reshape([28, 28])\n",
    "    # Display reconstructed images\n",
    "    for j in range(n):\n",
    "        # Draw the generated digits\n",
    "        canvas_recon[i * 28:(i + 1) * 28,\n",
    "                     j * 28:(j + 1) * 28] = recon[j].reshape([28, 28])\n",
    "\n",
    "print(\"Original Images\")     \n",
    "plt.figure(figsize=(n, n))\n",
    "plt.imshow(canvas_orig, origin=\"upper\", cmap=\"gray\")\n",
    "plt.show()\n",
    "\n",
    "print(\"Reconstructed Images\")\n",
    "plt.figure(figsize=(n, n))\n",
    "plt.imshow(canvas_recon, origin=\"upper\", cmap=\"gray\")\n",
    "plt.show()"
   ]
  },
  {
   "cell_type": "code",
   "execution_count": null,
   "metadata": {},
   "outputs": [],
   "source": []
  }
 ],
 "metadata": {
  "kernelspec": {
   "display_name": "Python 3",
   "language": "python",
   "name": "python3"
  },
  "language_info": {
   "codemirror_mode": {
    "name": "ipython",
    "version": 3
   },
   "file_extension": ".py",
   "mimetype": "text/x-python",
   "name": "python",
   "nbconvert_exporter": "python",
   "pygments_lexer": "ipython3",
   "version": "3.6.3"
  }
 },
 "nbformat": 4,
 "nbformat_minor": 2
}
